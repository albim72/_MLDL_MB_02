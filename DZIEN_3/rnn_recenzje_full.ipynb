{
  "nbformat": 4,
  "nbformat_minor": 0,
  "metadata": {
    "colab": {
      "provenance": []
    },
    "kernelspec": {
      "name": "python3",
      "display_name": "Python 3"
    },
    "language_info": {
      "name": "python"
    }
  },
  "cells": [
    {
      "cell_type": "code",
      "execution_count": 2,
      "metadata": {
        "id": "pdblHmb0FN4L"
      },
      "outputs": [],
      "source": [
        "import tensorflow as tf\n",
        "from tensorflow.keras import layers, Sequential\n",
        "from tensorflow.keras.datasets import imdb\n",
        "from tensorflow.keras.preprocessing import sequence"
      ]
    },
    {
      "cell_type": "code",
      "source": [
        "#parametry modelu i treningu\n",
        "max_features =10000\n",
        "max_len = 500\n",
        "batch_size = 32\n",
        "embedding_dims = 50\n",
        "units=32\n",
        "epochs=5"
      ],
      "metadata": {
        "id": "f9ytcI9wFk0B"
      },
      "execution_count": 4,
      "outputs": []
    },
    {
      "cell_type": "code",
      "source": [
        "(x_train,y_train),(x_test,y_test) = imdb.load_data(num_words=max_features)"
      ],
      "metadata": {
        "colab": {
          "base_uri": "https://localhost:8080/"
        },
        "id": "M4AZV7TVF-Wo",
        "outputId": "148a3981-a79c-46af-a417-31ee42574c03"
      },
      "execution_count": 5,
      "outputs": [
        {
          "output_type": "stream",
          "name": "stdout",
          "text": [
            "Downloading data from https://storage.googleapis.com/tensorflow/tf-keras-datasets/imdb.npz\n",
            "17464789/17464789 [==============================] - 0s 0us/step\n"
          ]
        }
      ]
    },
    {
      "cell_type": "code",
      "source": [
        "#dostosowanie recenzji do stałej długości\n",
        "x_train = sequence.pad_sequences(x_train,maxlen=max_len)\n",
        "x_test = sequence.pad_sequences(x_test,maxlen=max_len)"
      ],
      "metadata": {
        "id": "QPvaLK71L6Bv"
      },
      "execution_count": 6,
      "outputs": []
    },
    {
      "cell_type": "code",
      "source": [
        "model = Sequential([\n",
        "    layers.Embedding(max_features,embedding_dims,input_length=max_len),\n",
        "    layers.LSTM(units),\n",
        "    layers.Dense(1,activation='sigmoid')\n",
        "])"
      ],
      "metadata": {
        "id": "CV3hqLy5MYI2"
      },
      "execution_count": 7,
      "outputs": []
    },
    {
      "cell_type": "code",
      "source": [
        "model.compile(optimizer='adam',\n",
        "              loss='binary_crossentropy',\n",
        "              metrics=['accuracy'])"
      ],
      "metadata": {
        "id": "FyzqLZ75NDZq"
      },
      "execution_count": 8,
      "outputs": []
    },
    {
      "cell_type": "code",
      "source": [
        "model.fit(x_train,y_train,\n",
        "          batch_size=batch_size,\n",
        "          epochs = epochs,\n",
        "          validation_data = (x_test,y_test))"
      ],
      "metadata": {
        "colab": {
          "base_uri": "https://localhost:8080/"
        },
        "id": "WFRV8J34NRlj",
        "outputId": "c7ac4cc8-1cc2-4182-e7d9-bbbeee92dc1a"
      },
      "execution_count": 9,
      "outputs": [
        {
          "output_type": "stream",
          "name": "stdout",
          "text": [
            "Epoch 1/5\n",
            "782/782 [==============================] - 213s 269ms/step - loss: 0.4033 - accuracy: 0.8136 - val_loss: 0.3998 - val_accuracy: 0.8283\n",
            "Epoch 2/5\n",
            "782/782 [==============================] - 208s 266ms/step - loss: 0.2338 - accuracy: 0.9106 - val_loss: 0.3046 - val_accuracy: 0.8727\n",
            "Epoch 3/5\n",
            "782/782 [==============================] - 204s 261ms/step - loss: 0.1747 - accuracy: 0.9360 - val_loss: 0.3357 - val_accuracy: 0.8714\n",
            "Epoch 4/5\n",
            "782/782 [==============================] - 208s 266ms/step - loss: 0.1517 - accuracy: 0.9443 - val_loss: 0.4059 - val_accuracy: 0.8576\n",
            "Epoch 5/5\n",
            "782/782 [==============================] - 207s 265ms/step - loss: 0.1380 - accuracy: 0.9514 - val_loss: 0.4399 - val_accuracy: 0.8367\n"
          ]
        },
        {
          "output_type": "execute_result",
          "data": {
            "text/plain": [
              "<keras.src.callbacks.History at 0x7df92ae5dba0>"
            ]
          },
          "metadata": {},
          "execution_count": 9
        }
      ]
    },
    {
      "cell_type": "code",
      "source": [
        "loss,accuracy = model.evaluate(x_test,y_test,batch_size=batch_size)\n",
        "print(f\"test accuracy: {accuracy}\")"
      ],
      "metadata": {
        "colab": {
          "base_uri": "https://localhost:8080/"
        },
        "id": "bZUlVfxON8je",
        "outputId": "fef3918e-692c-445f-85ad-50c1ac24a9f7"
      },
      "execution_count": 10,
      "outputs": [
        {
          "output_type": "stream",
          "name": "stdout",
          "text": [
            "782/782 [==============================] - 37s 47ms/step - loss: 0.4399 - accuracy: 0.8367\n",
            "test accuracy: 0.836679995059967\n"
          ]
        }
      ]
    },
    {
      "cell_type": "code",
      "source": [
        "import numpy as np\n",
        "from tensorflow.keras.preprocessing.sequence import pad_sequences"
      ],
      "metadata": {
        "id": "biH2egL-R6Xv"
      },
      "execution_count": 11,
      "outputs": []
    },
    {
      "cell_type": "code",
      "source": [
        "recenzje = [\n",
        "    \"The movie was great!\",\n",
        "    \"The film was okay.\",\n",
        "    \"The movie was terrible...\",\n",
        "    \"Very bad movie!\",\n",
        "    \"Big shit!\",\n",
        "    \"Disaster\",\n",
        "    \"Beautiful disaster\",\n",
        "    \"Głupi film\",\n",
        "    \"the movie is wonderful, director is a genius\",\n",
        "    \"the film is terrible, zero talent, class E cinema!\",\n",
        "    \"the film is good but far from perfection\",\n",
        "    \"the film is very medicore. \",\n",
        "    \"the film is very medicore. the film is not good and far from perfection. The director is a klutz.\"\n",
        "]"
      ],
      "metadata": {
        "id": "GMq_iNybSHRd"
      },
      "execution_count": 19,
      "outputs": []
    },
    {
      "cell_type": "code",
      "source": [
        "#przetwarzanie recenzji do formatu zgodnego z modelem\n",
        "word_index = imdb.get_word_index()\n",
        "sequences = [[word_index[word] for word in review.split() if word in word_index] for review in recenzje]\n",
        "sequences = pad_sequences(sequences,maxlen=max_len)"
      ],
      "metadata": {
        "id": "TAefEtqXSY9R"
      },
      "execution_count": 20,
      "outputs": []
    },
    {
      "cell_type": "code",
      "source": [
        "predictions = model.predict(sequences)"
      ],
      "metadata": {
        "colab": {
          "base_uri": "https://localhost:8080/"
        },
        "id": "X3XZwoG6TF7i",
        "outputId": "4edb3fbe-660b-45e4-cdac-f3ebde4fbd12"
      },
      "execution_count": 21,
      "outputs": [
        {
          "output_type": "stream",
          "name": "stdout",
          "text": [
            "1/1 [==============================] - 0s 91ms/step\n"
          ]
        }
      ]
    },
    {
      "cell_type": "code",
      "source": [
        "#klasyfikacja sentymentu\n",
        "sentiment_label = ['Negative','Positive']\n",
        "for i, prediction in enumerate(predictions):\n",
        "  #sentiment = sentiment_label[int(np.round(prediction))]\n",
        "  sentiment = prediction\n",
        "  print(f'recenzja: {recenzje[i]} -> ocena: {sentiment}\\n')"
      ],
      "metadata": {
        "colab": {
          "base_uri": "https://localhost:8080/"
        },
        "id": "h2JG-w3eTNFa",
        "outputId": "6035aee7-7957-4f50-eb27-f63f8d624e0b"
      },
      "execution_count": 22,
      "outputs": [
        {
          "output_type": "stream",
          "name": "stdout",
          "text": [
            "recenzja: The movie was great! -> ocena: [0.614987]\n",
            "\n",
            "recenzja: The film was okay. -> ocena: [0.66316324]\n",
            "\n",
            "recenzja: The movie was terrible... -> ocena: [0.614987]\n",
            "\n",
            "recenzja: Very bad movie! -> ocena: [0.7121482]\n",
            "\n",
            "recenzja: Big shit! -> ocena: [0.67633444]\n",
            "\n",
            "recenzja: Disaster -> ocena: [0.67633444]\n",
            "\n",
            "recenzja: Beautiful disaster -> ocena: [0.5336641]\n",
            "\n",
            "recenzja: Głupi film -> ocena: [0.66793764]\n",
            "\n",
            "recenzja: the movie is wonderful, director is a genius -> ocena: [0.25910026]\n",
            "\n",
            "recenzja: the film is terrible, zero talent, class E cinema! -> ocena: [0.9146969]\n",
            "\n",
            "recenzja: the film is good but far from perfection -> ocena: [0.50134945]\n",
            "\n",
            "recenzja: the film is very medicore.  -> ocena: [0.6835577]\n",
            "\n",
            "recenzja: the film is very medicore. the film is not good and far from perfection. The director is a klutz. -> ocena: [0.23909473]\n",
            "\n"
          ]
        }
      ]
    }
  ]
}