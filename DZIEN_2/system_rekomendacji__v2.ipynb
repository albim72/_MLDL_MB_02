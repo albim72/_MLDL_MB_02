{
 "cells":[
  {
   "cell_type":"code",
   "source":[
    "import json\n",
    "from collections import Counter\n",
    "from keras.models import Model\n",
    "from keras.layers import Embedding,Input,Reshape\n",
    "from keras.layers import Dot\n",
    "from sklearn.linear_model import LinearRegression\n",
    "import numpy as np\n",
    "import random\n",
    "from sklearn import svm"
   ],
   "execution_count":2,
   "outputs":[
    
   ],
   "metadata":{
    "datalore":{
     "node_id":"D74RIFUT56SCRjpzZjCIch",
     "type":"CODE",
     "hide_input_from_viewers":true,
     "hide_output_from_viewers":true
    }
   }
  },
  {
   "cell_type":"code",
   "source":[
    "with open('dane\/wp_movies_10k.ndjson') as fin:\n",
    "    movies = [json.loads(l) for l in fin]"
   ],
   "execution_count":3,
   "outputs":[
    
   ],
   "metadata":{
    "datalore":{
     "node_id":"3nDp0TYKx5NJeJnmyLISpM",
     "type":"CODE",
     "hide_input_from_viewers":true,
     "hide_output_from_viewers":true
    }
   }
  },
  {
   "cell_type":"code",
   "source":[
    "movies[2]"
   ],
   "execution_count":9,
   "outputs":[
    {
     "data":{
      "text\/plain":[
       "['Suicide Squad (film)',\n",
       " {'image': 'Suicide Squad (film) Poster.png',\n",
       "  'name': 'Suicide Squad',\n",
       "  'cinematography': 'Roman Vasyanov',\n",
       "  'alt': 'Official poster',\n",
       "  'distributor': 'Warner Bros. Pictures',\n",
       "  'caption': 'Theatrical release poster',\n",
       "  'gross': '$745.6 million',\n",
       "  'country': 'United States',\n",
       "  'director': 'David Ayer',\n",
       "  'runtime': '123 minutes',\n",
       "  'editing': 'John Gilroy',\n",
       "  'language': 'English',\n",
       "  'music': 'Steven Price',\n",
       "  'writer': 'David Ayer',\n",
       "  'budget': '$175 million'},\n",
       " ['David Ayer',\n",
       "  'Charles Roven',\n",
       "  'Richard Suckle',\n",
       "  'Will Smith',\n",
       "  'Jared Leto',\n",
       "  'Margot Robbie',\n",
       "  'Joel Kinnaman',\n",
       "  'Viola Davis',\n",
       "  'Jai Courtney',\n",
       "  'Jay Hernandez',\n",
       "  'Adewale Akinnuoye-Agbaje',\n",
       "  'Ike Barinholtz',\n",
       "  'Scott Eastwood',\n",
       "  'Cara Delevingne',\n",
       "  'Steven Price (composer)',\n",
       "  'Roman Vasyanov',\n",
       "  'John Gilroy (film editor)',\n",
       "  'DC Entertainment',\n",
       "  'RatPac-Dune Entertainment',\n",
       "  'Atlas Entertainment',\n",
       "  'Warner Bros. Pictures',\n",
       "  'Beacon Theatre (New York City)',\n",
       "  'Los Angeles Times',\n",
       "  'superhero film',\n",
       "  'DC Comics',\n",
       "  'antihero',\n",
       "  'Suicide Squad',\n",
       "  'DC Extended Universe',\n",
       "  'David Ayer',\n",
       "  'ensemble cast',\n",
       "  'Will Smith',\n",
       "  'Jared Leto',\n",
       "  'Margot Robbie',\n",
       "  'Joel Kinnaman',\n",
       "  'Viola Davis',\n",
       "  'Jai Courtney',\n",
       "  'Jay Hernandez',\n",
       "  'Adewale Akinnuoye-Agbaje',\n",
       "  'Ike Barinholtz',\n",
       "  'Scott Eastwood',\n",
       "  'Cara Delevingne',\n",
       "  'Amanda Waller',\n",
       "  'supervillain',\n",
       "  'black ops',\n",
       "  'Warner Bros. Pictures',\n",
       "  'Principal photography',\n",
       "  'Toronto',\n",
       "  'Ontario',\n",
       "  'Chicago',\n",
       "  'Illinois',\n",
       "  'New York City',\n",
       "  'United States',\n",
       "  '3D film',\n",
       "  '2016 in film',\n",
       "  'Academy Award',\n",
       "  'Academy Award for Best Makeup and Hairstyling',\n",
       "  '89th Academy Awards',\n",
       "  'Superman',\n",
       "  'Amanda Waller',\n",
       "  'Suicide Squad',\n",
       "  'Belle Reve',\n",
       "  'Contract killing',\n",
       "  'Deadshot',\n",
       "  'psychiatrist',\n",
       "  'Harley Quinn',\n",
       "  'pyrokinesis',\n",
       "  'gangster',\n",
       "  'El Diablo (comics)#Chato Santana',\n",
       "  'Captain Boomerang',\n",
       "  'Killer Croc',\n",
       "  'Slipknot (comics)',\n",
       "  'Rick Flag',\n",
       "  'Enchantress (DC Comics)',\n",
       "  'Midway City (DC Comics)',\n",
       "  'Joker (comics)',\n",
       "  'Navy SEALs',\n",
       "  'mid-credits scene',\n",
       "  'Batman',\n",
       "  'metahuman',\n",
       "  'File:Suicide Squad by Gage Skidmore.jpg',\n",
       "  'San Diego Comic-Con International',\n",
       "  'Will Smith',\n",
       "  'Deadshot',\n",
       "  'Jared Leto',\n",
       "  'Joker (comics)',\n",
       "  'Psychopathy',\n",
       "  'supervillain',\n",
       "  'William Shakespeare',\n",
       "  'Mind games',\n",
       "  'Method acting',\n",
       "  'gospel music',\n",
       "  'shamanism',\n",
       "  'Alejandro Jodorowsky',\n",
       "  'Empire (magazine)',\n",
       "  'Margot Robbie',\n",
       "  'Harley Quinn',\n",
       "  'psychiatrist',\n",
       "  'Richard Suckle',\n",
       "  'Joel Kinnaman',\n",
       "  'Rick Flag',\n",
       "  'United States Military Academy',\n",
       "  'Special Forces (United States Army)',\n",
       "  'Tom Hardy',\n",
       "  'Viola Davis',\n",
       "  'Amanda Waller',\n",
       "  'metahuman',\n",
       "  'Confessions of a Sociopath',\n",
       "  'Jai Courtney',\n",
       "  'Captain Boomerang',\n",
       "  'bogan',\n",
       "  'David Ayer',\n",
       "  'Jay Hernandez',\n",
       "  'El Diablo (comics)#Chato Santana',\n",
       "  'Los Angeles',\n",
       "  'List of superhuman features and abilities in fiction#Fire and heat manipulation',\n",
       "  'Adewale Akinnuoye-Agbaje',\n",
       "  'Killer Croc',\n",
       "  'Cara Delevingne',\n",
       "  'Enchantress (DC Comics)',\n",
       "  'Karen Fukuhara',\n",
       "  'Katana (comics)',\n",
       "  'Empire (magazine)',\n",
       "  'Ike Barinholtz',\n",
       "  'Scott Eastwood',\n",
       "  'United States Navy SEALs',\n",
       "  'Fury (2014 film)',\n",
       "  'Shia LaBeouf',\n",
       "  'Adam Beach',\n",
       "  'Slipknot (comics)',\n",
       "  'Ben Affleck',\n",
       "  'Ezra Miller',\n",
       "  'Batman v Superman: Dawn of Justice',\n",
       "  'Batman',\n",
       "  'Flash (Barry Allen)',\n",
       "  'cameo role',\n",
       "  'Jason Momoa',\n",
       "  'Aquaman',\n",
       "  'USA Today',\n",
       "  'The Hollywood Reporter',\n",
       "  'Jim Parrack',\n",
       "  'Common (rapper)',\n",
       "  'Jonny Frost',\n",
       "  'David Harbour',\n",
       "  'Alex Meraz',\n",
       "  'Shailyn Pierre-Dixon',\n",
       "  'David Ayer',\n",
       "  'Dan Lin',\n",
       "  'David Ayer',\n",
       "  'Variety (magazine)',\n",
       "  'The Hollywood Reporter',\n",
       "  'Empire (film magazine)',\n",
       "  'The Dirty Dozen',\n",
       "  'Empire (film magazine)',\n",
       "  'The Hollywood Reporter',\n",
       "  'Ryan Gosling',\n",
       "  'Tom Hardy',\n",
       "  'Margot Robbie',\n",
       "  'Will Smith',\n",
       "  'ComingSoon.net',\n",
       "  'TheWrap',\n",
       "  'Jared Leto',\n",
       "  'Joker (comics)',\n",
       "  'TheWrap',\n",
       "  'Jai Courtney',\n",
       "  'Enchantress (DC Comics)',\n",
       "  'Viola Davis',\n",
       "  'Octavia Spencer',\n",
       "  'Oprah Winfrey',\n",
       "  'Amanda Waller',\n",
       "  'John Ostrander',\n",
       "  'Suicide Squad#Suicide Squad (vol. 1)',\n",
       "  'Comic Book Resources',\n",
       "  'Comic Book Resources',\n",
       "  'The Revenant (2015 film)',\n",
       "  'Jake Gyllenhaal',\n",
       "  'Joel Edgerton',\n",
       "  'Jon Bernthal',\n",
       "  'Joel Kinnaman',\n",
       "  'Jay Hernandez',\n",
       "  '87th Academy Awards',\n",
       "  'Scott Eastwood',\n",
       "  'Adewale Akinnuoye-Agbaje',\n",
       "  'Killer Croc',\n",
       "  'Katana (comics)',\n",
       "  'Adam Beach',\n",
       "  'Ike Barinholtz',\n",
       "  'Jim Parrack',\n",
       "  'Ben Affleck',\n",
       "  'Batman',\n",
       "  'Batman v Superman: Dawn of Justice',\n",
       "  'File:Suicide Squad filming in Toronto 11.jpg',\n",
       "  'Car chase',\n",
       "  'Yonge Street',\n",
       "  'wrap (filmmaking)',\n",
       "  'Chicago',\n",
       "  'Illinois',\n",
       "  'Batman v. Superman: Dawn of Justice',\n",
       "  'Zack Snyder',\n",
       "  'John Gilroy (film editor)',\n",
       "  'Variety (magazine)',\n",
       "  'The Hollywood Reporter',\n",
       "  'Academy Award',\n",
       "  'Steven Price (composer)',\n",
       "  'Fury (2014 film)',\n",
       "  'Heathens (song)',\n",
       "  'Twenty One Pilots',\n",
       "  'Billboard (magazine)',\n",
       "  'Idolator (website)',\n",
       "  'Sucker for Pain',\n",
       "  'Purple Lamborghini',\n",
       "  'Skrillex',\n",
       "  'Rick Ross',\n",
       "  'Kehlani',\n",
       "  'Action Bronson',\n",
       "  'Mark Ronson',\n",
       "  'Dan Auerbach',\n",
       "  'The Black Keys',\n",
       "  'Grimes (musician)',\n",
       "  'Queen (band)',\n",
       "  'Bohemian Rhapsody',\n",
       "  'Panic! at the Disco',\n",
       "  'San Diego Comic-Con International',\n",
       "  'Beacon Theatre (New York City)',\n",
       "  '\/Film',\n",
       "  'Forbes',\n",
       "  'The New York Times',\n",
       "  'Batman v Superman: Dawn of Justice',\n",
       "  'Forbes',\n",
       "  'The Hollywood Reporter',\n",
       "  'The Hollywood Reporter',\n",
       "  'Forbes',\n",
       "  'Guardians of the Galaxy (film)',\n",
       "  'Deadpool (film)',\n",
       "  'The Hollywood Reporter',\n",
       "  'Deadline.com',\n",
       "  'Box Office Mojo',\n",
       "  'The Hollywood Reporter',\n",
       "  'D-Box',\n",
       "  'Box Office Mojo',\n",
       "  'Fandango (ticket service)',\n",
       "  'Forbes',\n",
       "  'Man of Steel (film)',\n",
       "  'The Hollywood Reporter',\n",
       "  'Forbes',\n",
       "  'The Dark Knight Rises',\n",
       "  'Deadline.com',\n",
       "  'Guardians of the Galaxy (film)',\n",
       "  'Will Smith',\n",
       "  'I Am Legend (film)',\n",
       "  'The Hunger Games (film)',\n",
       "  'Forbes',\n",
       "  'Warner Bros.',\n",
       "  'Box Office Mojo',\n",
       "  'Box Office Mojo',\n",
       "  'Forbes',\n",
       "  'African-American',\n",
       "  'Deadline.com',\n",
       "  'Forbes',\n",
       "  'Deadline.com',\n",
       "  'Forbes',\n",
       "  'Forbes',\n",
       "  'Second weekend in box office performance',\n",
       "  'Sausage Party',\n",
       "  'Forbes',\n",
       "  'The Hollywood Reporter',\n",
       "  'Warcraft (film)',\n",
       "  'The Hollywood Reporter',\n",
       "  'The Hollywood Reporter',\n",
       "  'Deadpool (film)',\n",
       "  'Zootopia',\n",
       "  'The Jungle Book (2016 film)',\n",
       "  'Finding Dory',\n",
       "  'X-Men: Apocalypse',\n",
       "  'Forbes',\n",
       "  'Forbes',\n",
       "  'Deadline.com',\n",
       "  \"Don't Breathe\",\n",
       "  'The Hollywood Reporter',\n",
       "  'Forbes',\n",
       "  'Deadline.com',\n",
       "  'Forbes',\n",
       "  'Forbes',\n",
       "  'Commonwealth of Independent States',\n",
       "  'Deadline.com',\n",
       "  'Variety (magazine)',\n",
       "  'Deadline.com',\n",
       "  'Will Smith',\n",
       "  'Deadline.com',\n",
       "  'Deadline.com',\n",
       "  'Deadline.com',\n",
       "  'The Secret Life of Pets',\n",
       "  'Deadline.com',\n",
       "  '2016 Summer Olympics',\n",
       "  'The Last Princess (film)',\n",
       "  'Operation Chromite (film)',\n",
       "  'Variety (magazine)',\n",
       "  'The Guardian',\n",
       "  'The Secret Life of Pets',\n",
       "  'Jason Bourne (film)',\n",
       "  'Forbes',\n",
       "  'Deadline.com',\n",
       "  'Your Name',\n",
       "  'Variety (magazine)',\n",
       "  'Variety (magazine)',\n",
       "  'Deadline.com',\n",
       "  'Forbes',\n",
       "  'The Hollywood Reporter',\n",
       "  'Rotten Tomatoes',\n",
       "  'weighted average',\n",
       "  'DCEU',\n",
       "  'Rotten Tomatoes',\n",
       "  'Fandango Media',\n",
       "  'Metacritic',\n",
       "  'standard score',\n",
       "  'Metacritic',\n",
       "  'CBS Interactive',\n",
       "  'CinemaScore',\n",
       "  'Rolling Stone',\n",
       "  'Peter Travers',\n",
       "  'DC Comics',\n",
       "  'Rolling Stone',\n",
       "  'Vanity Fair (magazine)',\n",
       "  'Vanity Fair (magazine)',\n",
       "  'The Wall Street Journal',\n",
       "  'Joe Morgenstern',\n",
       "  'The Wall Street Journal',\n",
       "  'Entertainment Weekly',\n",
       "  'Jared Leto',\n",
       "  'Entertainment Weekly',\n",
       "  'IGN',\n",
       "  'Batman v Superman: Dawn of Justice',\n",
       "  'IGN',\n",
       "  'HitFix',\n",
       "  'USA Today',\n",
       "  'Jared Leto',\n",
       "  'Margot Robbie',\n",
       "  'Joker (comics)',\n",
       "  'Harley Quinn',\n",
       "  \"Director's cut#Extended cuts and special editions\",\n",
       "  'The Hollywood Reporter',\n",
       "  'IGN',\n",
       "  'TheWrap',\n",
       "  'Harley Quinn',\n",
       "  'Christina Hodson',\n",
       "  'Deadshot',\n",
       "  'Will Smith',\n",
       "  'British Board of Film Classification',\n",
       "  'Collider.com',\n",
       "  'TheWrap',\n",
       "  'Variety (magazine)',\n",
       "  'Variety (magazine)',\n",
       "  'HitFix',\n",
       "  'Category:Suicide Squad',\n",
       "  'Category:2016 films',\n",
       "  'Category:2010s action thriller films',\n",
       "  'Category:2010s superhero films',\n",
       "  'Category:American action comedy films',\n",
       "  'Category:Black comedy films',\n",
       "  'Category:American fantasy films',\n",
       "  'Category:American science fiction films',\n",
       "  'Category:American superhero films',\n",
       "  'Category:Criminal comedy films',\n",
       "  'Category:DC Extended Universe films',\n",
       "  'Category:English-language films',\n",
       "  'Category:Vigilante films',\n",
       "  'Category:Prison films',\n",
       "  'Category:Martial arts films',\n",
       "  'Category:Techno-thriller films',\n",
       "  'Category:Films based on DC Comics',\n",
       "  'Category:Films directed by David Ayer',\n",
       "  'Category:Films set in 2016',\n",
       "  'Category:Films set in Louisiana',\n",
       "  'Category:Films set in Washington, D.C.',\n",
       "  'Category:Films shot in Toronto',\n",
       "  'Category:Films shot in Chicago',\n",
       "  'Category:Warner Bros. films',\n",
       "  'Category:Atlas Entertainment films',\n",
       "  'Category:Screenplays by David Ayer',\n",
       "  'Category:Witchcraft in film',\n",
       "  'Category:Familicide in fiction'],\n",
       " '26%',\n",
       " '4.7\/10']"
      ]
     },
     "metadata":{
      
     },
     "output_type":"display_data"
    }
   ],
   "metadata":{
    "datalore":{
     "node_id":"ijERDNABI3YEsYUtsXhXHS",
     "type":"CODE",
     "hide_input_from_viewers":true,
     "hide_output_from_viewers":true
    }
   }
  },
  {
   "cell_type":"code",
   "source":[
    "link_counts = Counter()\n",
    "for movie in movies:\n",
    "    link_counts.update(movie[2])\n",
    "link_counts.most_common(10)"
   ],
   "execution_count":4,
   "outputs":[
    {
     "data":{
      "text\/plain":[
       "[('Rotten Tomatoes', 9393),\n",
       " ('Category:English-language films', 5882),\n",
       " ('Category:American films', 5867),\n",
       " ('Variety (magazine)', 5450),\n",
       " ('Metacritic', 5112),\n",
       " ('Box Office Mojo', 4186),\n",
       " ('The New York Times', 3818),\n",
       " ('The Hollywood Reporter', 3553),\n",
       " ('Roger Ebert', 2707),\n",
       " ('Los Angeles Times', 2454)]"
      ]
     },
     "metadata":{
      
     },
     "output_type":"display_data"
    }
   ],
   "metadata":{
    "datalore":{
     "node_id":"LsuZW29bm28YpM39UbgRAI",
     "type":"CODE",
     "hide_input_from_viewers":true,
     "hide_output_from_viewers":true
    }
   }
  },
  {
   "cell_type":"code",
   "source":[
    "top_links = [link for link, c in link_counts.items() if c>=3]\n",
    "link_to_idx = {link: idx for idx,link in enumerate(top_links)}\n",
    "movie_to_idx = {movie[0]: idx for idx,movie in enumerate(movies)}\n",
    "pairs = []\n",
    "for movie in movies:\n",
    "    pairs.extend((link_to_idx[link],movie_to_idx[movie[0]]) for link in movie[2] if link in link_to_idx)\n",
    "pairs_set = set(pairs)\n",
    "len(pairs), len(top_links), len(movie_to_idx)"
   ],
   "execution_count":6,
   "outputs":[
    {
     "data":{
      "text\/plain":[
       "(949544, 66913, 10000)"
      ]
     },
     "metadata":{
      
     },
     "output_type":"display_data"
    }
   ],
   "metadata":{
    "datalore":{
     "node_id":"hyD7HyHsYZot6GZlXZwk0q",
     "type":"CODE",
     "hide_input_from_viewers":true,
     "hide_output_from_viewers":true
    }
   }
  },
  {
   "cell_type":"code",
   "source":[
    "def movie_embedding_model(embedding_size=50):\n",
    "    link = Input(name='link',shape=(1,))\n",
    "    movie = Input(name='movie',shape=(1,))\n",
    "    link_embedding = Embedding(name='link_embedding',\n",
    "                               input_dim = len(top_links),\n",
    "                               output_dim=embedding_size)(link)\n",
    "    movie_embedding = Embedding(name='movie_embedding',\n",
    "                               input_dim = len(movie_to_idx),\n",
    "                               output_dim=embedding_size)(movie)\n",
    "    dot = Dot(name='dot_product',normalize=True,axes=2)([link_embedding,movie_embedding])\n",
    "    merged = Reshape((1,))(dot)\n",
    "    model = Model(inputs=[link,movie], outputs=[merged])\n",
    "    model.compile(optimizer='nadam',loss='mse')\n",
    "    return model\n",
    "model = movie_embedding_model()\n",
    "model.summary()"
   ],
   "execution_count":10,
   "outputs":[
    {
     "name":"stdout",
     "text":[
      "Model: \"model\"\n",
      "__________________________________________________________________________________________________\n",
      " Layer (type)                   Output Shape         Param #     Connected to                     \n",
      "==================================================================================================\n",
      " link (InputLayer)              [(None, 1)]          0           []                               \n",
      "                                                                                                  \n",
      " movie (InputLayer)             [(None, 1)]          0           []                               \n",
      "                                                                                                  \n",
      " link_embedding (Embedding)     (None, 1, 50)        3345650     ['link[0][0]']                   \n",
      "                                                                                                  \n",
      " movie_embedding (Embedding)    (None, 1, 50)        500000      ['movie[0][0]']                  \n",
      "                                                                                                  \n",
      " dot_product (Dot)              (None, 1, 1)         0           ['link_embedding[0][0]',         \n",
      "                                                                  'movie_embedding[0][0]']        \n",
      "                                                                                                  \n",
      " reshape (Reshape)              (None, 1)            0           ['dot_product[0][0]']            \n",
      "                                                                                                  \n",
      "==================================================================================================\n",
      "Total params: 3,845,650\n",
      "Trainable params: 3,845,650\n",
      "Non-trainable params: 0\n",
      "__________________________________________________________________________________________________\n"
     ],
     "output_type":"stream"
    }
   ],
   "metadata":{
    "datalore":{
     "node_id":"fjK74rcAUd6redNTavBMWV",
     "type":"CODE",
     "hide_input_from_viewers":true,
     "hide_output_from_viewers":true
    }
   }
  },
  {
   "cell_type":"code",
   "source":[
    "random.seed(5)\n",
    "\n",
    "def batchifier(pair,positive_samples=50,negative_ratio=10):\n",
    "    batch_size = positive_samples*(1+negative_ratio)\n",
    "    batch = np.zeros((batch_size,3))\n",
    "    while True:\n",
    "        for idx,(link_id,movie_id) in enumerate(random.sample(pairs,positive_samples)):\n",
    "            batch[idx,:] = (link_id,movie_id,1)\n",
    "        idx = positive_samples\n",
    "        while idx<batch_size:\n",
    "            movie_id = random.randrange(len(movie_to_idx))\n",
    "            link_id = random.randrange(len(top_links))\n",
    "            if not (link_id,movie_id) in pairs_set:\n",
    "                batch[idx,:]=(link_id,movie_id,-1)\n",
    "                idx+=1\n",
    "        np.random.shuffle(batch)\n",
    "        yield {'link':batch[:,0],'movie':batch[:,1]},batch[:,2]\n",
    "\n",
    "next(batchifier(pairs,positive_samples=3,negative_ratio=2))"
   ],
   "execution_count":11,
   "outputs":[
    {
     "data":{
      "text\/plain":[
       "({'link': array([ 1313.,  3801., 32643., 31254., 22418., 13365., 32318., 20558.,\n",
       "         48731.]),\n",
       "  'movie': array([7236., 5874., 7628., 5530., 1529., 6238., 7685.,  849., 1854.])},\n",
       " array([ 1., -1., -1.,  1.,  1., -1., -1., -1., -1.]))"
      ]
     },
     "metadata":{
      
     },
     "output_type":"display_data"
    }
   ],
   "metadata":{
    "datalore":{
     "node_id":"UAeENczQ2ZviGFFlMMJQQj",
     "type":"CODE",
     "hide_input_from_viewers":true,
     "hide_output_from_viewers":true
    }
   }
  },
  {
   "cell_type":"code",
   "source":[
    "positive_samples_per_batch = 512\n",
    "\n",
    "model.fit_generator(\n",
    "    batchifier(pairs,positive_samples=positive_samples_per_batch,negative_ratio=10),\n",
    "    epochs=15,\n",
    "    steps_per_epoch=len(pairs),\n",
    "    verbose=2\n",
    ")"
   ],
   "execution_count":null,
   "outputs":[
    {
     "name":"stdout",
     "text":[
      "Epoch 1\/15\n"
     ],
     "output_type":"stream"
    },
    {
     "name":"stderr",
     "text":[
      "<ipython-input-12-27e8724503c9>:3: UserWarning: `Model.fit_generator` is deprecated and will be removed in a future version. Please use `Model.fit`, which supports generators.\n",
      "  model.fit_generator(\n"
     ],
     "output_type":"stream"
    }
   ],
   "metadata":{
    "datalore":{
     "node_id":"R0BdaBiKumiqRmyiE7DW4z",
     "type":"CODE",
     "hide_input_from_viewers":true,
     "hide_output_from_viewers":true
    }
   }
  },
  {
   "cell_type":"code",
   "source":[
    "movie = model.get_layer('movie_embedding')\n",
    "movie_weights = movie.get_weights()[0]\n",
    "movie_lengths = np.linalg.norm(movie_weights,axis=1)\n",
    "normalized_movies = (movie_weights.T\/movie_lengths).T\n",
    "\n",
    "def similar_movies(movie):\n",
    "    dists = np.dot(normalized_movies,normalized_movies[movie_to_idx[movie]])\n",
    "    closest = np.argsort(dists)[-10:]\n",
    "    for c in reversed(closest):\n",
    "        print(c,movies[c][0],dists[c])\n",
    "\n",
    "similar_movies('Rouge One')"
   ],
   "execution_count":null,
   "outputs":[
    
   ],
   "metadata":{
    "datalore":{
     "node_id":"XFoFcBJIr3fpz82lzjqgwk",
     "type":"CODE",
     "hide_input_from_viewers":true,
     "hide_output_from_viewers":true
    }
   }
  }
 ],
 "metadata":{
  "kernelspec":{
   "display_name":"Python",
   "language":"python",
   "name":"python"
  },
  "datalore":{
   "computation_mode":"JUPYTER",
   "package_manager":"pip",
   "base_environment":"default",
   "packages":[
    
   ],
   "report_row_ids":[
    
   ],
   "version":3
  }
 },
 "nbformat":4,
 "nbformat_minor":4
}