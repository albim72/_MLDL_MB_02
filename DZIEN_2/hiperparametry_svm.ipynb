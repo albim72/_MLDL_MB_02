{
 "cells":[
  {
   "cell_type":"code",
   "source":[
    "import numpy as np\n",
    "from sklearn import datasets\n",
    "from sklearn.model_selection import train_test_split\n",
    "from sklearn.svm import SVC\n",
    "from sklearn.model_selection import RandomizedSearchCV\n",
    "from scipy.stats import reciprocal,uniform"
   ],
   "execution_count":1,
   "outputs":[
    
   ],
   "metadata":{
    "datalore":{
     "node_id":"KlH3jckVNGnZdzGviWMfHQ",
     "type":"CODE",
     "hide_input_from_viewers":true,
     "hide_output_from_viewers":true
    }
   }
  },
  {
   "cell_type":"code",
   "source":[
    "#wczytanie danych\n",
    "iris = datasets.load_iris()\n",
    "X = iris[\"data\"]\n",
    "y = iris[\"target\"]\n",
    "\n",
    "X_train,X_test,y_train,y_test = train_test_split(X,y,test_size=0.2,random_state=42)"
   ],
   "execution_count":2,
   "outputs":[
    
   ],
   "metadata":{
    "datalore":{
     "node_id":"jI8ynRsufNmsRHplEQDh6H",
     "type":"CODE",
     "hide_input_from_viewers":true,
     "hide_output_from_viewers":true
    }
   }
  },
  {
   "cell_type":"code",
   "source":[
    "svm = SVC()"
   ],
   "execution_count":3,
   "outputs":[
    
   ],
   "metadata":{
    "datalore":{
     "node_id":"wFgHiWbam0aKrZL24e2y1q",
     "type":"CODE",
     "hide_input_from_viewers":true,
     "hide_output_from_viewers":true
    }
   }
  },
  {
   "cell_type":"code",
   "source":[
    "#definicja przestrzeni hiperparametrów\n",
    "param_distributions = {\n",
    "    'C':reciprocal(20,200000), #rozkład odwrotny\n",
    "    'gamma':uniform(0.0001,0.1) #rozkład jednostajny\n",
    "}"
   ],
   "execution_count":4,
   "outputs":[
    
   ],
   "metadata":{
    "datalore":{
     "node_id":"KKMoucwPnWsJfaQ4sHxZnS",
     "type":"CODE",
     "hide_input_from_viewers":true,
     "hide_output_from_viewers":true
    }
   }
  },
  {
   "cell_type":"code",
   "source":[
    "rnd_search_cv = RandomizedSearchCV(svm,param_distributions,n_iter=10,verbose=2,cv=3,random_state=42)"
   ],
   "execution_count":5,
   "outputs":[
    
   ],
   "metadata":{
    "datalore":{
     "node_id":"PNbmfcq3hGReEOjpjLui4O",
     "type":"CODE",
     "hide_input_from_viewers":true,
     "hide_output_from_viewers":true
    }
   }
  },
  {
   "cell_type":"code",
   "source":[
    "rnd_search_cv.fit(X_train,y_train)"
   ],
   "execution_count":6,
   "outputs":[
    {
     "name":"stdout",
     "text":[
      "Fitting 3 folds for each of 10 candidates, totalling 30 fits\n",
      "[CV] END ......C=629.782329591372, gamma=0.09517143064099162; total time=   0.0s\n",
      "[CV] END ......C=629.782329591372, gamma=0.09517143064099162; total time=   0.0s\n",
      "[CV] END ......C=629.782329591372, gamma=0.09517143064099162; total time=   0.0s\n",
      "[CV] END ....C=16943.602837639948, gamma=0.05996584841970366; total time=   0.0s\n",
      "[CV] END ....C=16943.602837639948, gamma=0.05996584841970366; total time=   0.0s\n",
      "[CV] END ....C=16943.602837639948, gamma=0.05996584841970366; total time=   0.0s\n",
      "[CV] END ....C=84.15977339213269, gamma=0.015699452033620265; total time=   0.0s\n",
      "[CV] END ....C=84.15977339213269, gamma=0.015699452033620265; total time=   0.0s\n",
      "[CV] END ....C=84.15977339213269, gamma=0.015699452033620265; total time=   0.0s\n",
      "[CV] END ....C=34.147934863056236, gamma=0.08671761457749352; total time=   0.0s\n",
      "[CV] END ....C=34.147934863056236, gamma=0.08671761457749352; total time=   0.0s\n",
      "[CV] END ....C=34.147934863056236, gamma=0.08671761457749352; total time=   0.0s\n",
      "[CV] END .....C=5075.631016531325, gamma=0.07090725777960455; total time=   0.0s\n",
      "[CV] END .....C=5075.631016531325, gamma=0.07090725777960455; total time=   0.0s\n",
      "[CV] END .....C=5075.631016531325, gamma=0.07090725777960455; total time=   0.0s\n",
      "[CV] END .....C=24.17508294611391, gamma=0.09709098521619944; total time=   0.0s\n",
      "[CV] END .....C=24.17508294611391, gamma=0.09709098521619944; total time=   0.0s\n",
      "[CV] END .....C=24.17508294611391, gamma=0.09709098521619944; total time=   0.0s\n",
      "[CV] END ...C=42736.658144717476, gamma=0.021333911067827616; total time=   0.0s\n",
      "[CV] END ...C=42736.658144717476, gamma=0.021333911067827616; total time=   0.0s\n",
      "[CV] END ...C=42736.658144717476, gamma=0.021333911067827616; total time=   0.0s\n",
      "[CV] END .....C=106.7406552520791, gamma=0.01844045098534338; total time=   0.0s\n",
      "[CV] END .....C=106.7406552520791, gamma=0.01844045098534338; total time=   0.0s\n",
      "[CV] END .....C=106.7406552520791, gamma=0.01844045098534338; total time=   0.0s\n",
      "[CV] END .....C=329.6089285595793, gamma=0.05257564316322379; total time=   0.0s\n",
      "[CV] END .....C=329.6089285595793, gamma=0.05257564316322379; total time=   0.0s\n",
      "[CV] END .....C=329.6089285595793, gamma=0.05257564316322379; total time=   0.0s\n",
      "[CV] END ...C=1068.5874522559543, gamma=0.029222914019804192; total time=   0.0s\n",
      "[CV] END ...C=1068.5874522559543, gamma=0.029222914019804192; total time=   0.0s\n",
      "[CV] END ...C=1068.5874522559543, gamma=0.029222914019804192; total time=   0.0s\n"
     ],
     "output_type":"stream"
    },
    {
     "data":{
      "text\/html":[
       "<style>#sk-container-id-1 {color: black;background-color: white;}#sk-container-id-1 pre{padding: 0;}#sk-container-id-1 div.sk-toggleable {background-color: white;}#sk-container-id-1 label.sk-toggleable__label {cursor: pointer;display: block;width: 100%;margin-bottom: 0;padding: 0.3em;box-sizing: border-box;text-align: center;}#sk-container-id-1 label.sk-toggleable__label-arrow:before {content: \"▸\";float: left;margin-right: 0.25em;color: #696969;}#sk-container-id-1 label.sk-toggleable__label-arrow:hover:before {color: black;}#sk-container-id-1 div.sk-estimator:hover label.sk-toggleable__label-arrow:before {color: black;}#sk-container-id-1 div.sk-toggleable__content {max-height: 0;max-width: 0;overflow: hidden;text-align: left;background-color: #f0f8ff;}#sk-container-id-1 div.sk-toggleable__content pre {margin: 0.2em;color: black;border-radius: 0.25em;background-color: #f0f8ff;}#sk-container-id-1 input.sk-toggleable__control:checked~div.sk-toggleable__content {max-height: 200px;max-width: 100%;overflow: auto;}#sk-container-id-1 input.sk-toggleable__control:checked~label.sk-toggleable__label-arrow:before {content: \"▾\";}#sk-container-id-1 div.sk-estimator input.sk-toggleable__control:checked~label.sk-toggleable__label {background-color: #d4ebff;}#sk-container-id-1 div.sk-label input.sk-toggleable__control:checked~label.sk-toggleable__label {background-color: #d4ebff;}#sk-container-id-1 input.sk-hidden--visually {border: 0;clip: rect(1px 1px 1px 1px);clip: rect(1px, 1px, 1px, 1px);height: 1px;margin: -1px;overflow: hidden;padding: 0;position: absolute;width: 1px;}#sk-container-id-1 div.sk-estimator {font-family: monospace;background-color: #f0f8ff;border: 1px dotted black;border-radius: 0.25em;box-sizing: border-box;margin-bottom: 0.5em;}#sk-container-id-1 div.sk-estimator:hover {background-color: #d4ebff;}#sk-container-id-1 div.sk-parallel-item::after {content: \"\";width: 100%;border-bottom: 1px solid gray;flex-grow: 1;}#sk-container-id-1 div.sk-label:hover label.sk-toggleable__label {background-color: #d4ebff;}#sk-container-id-1 div.sk-serial::before {content: \"\";position: absolute;border-left: 1px solid gray;box-sizing: border-box;top: 0;bottom: 0;left: 50%;z-index: 0;}#sk-container-id-1 div.sk-serial {display: flex;flex-direction: column;align-items: center;background-color: white;padding-right: 0.2em;padding-left: 0.2em;position: relative;}#sk-container-id-1 div.sk-item {position: relative;z-index: 1;}#sk-container-id-1 div.sk-parallel {display: flex;align-items: stretch;justify-content: center;background-color: white;position: relative;}#sk-container-id-1 div.sk-item::before, #sk-container-id-1 div.sk-parallel-item::before {content: \"\";position: absolute;border-left: 1px solid gray;box-sizing: border-box;top: 0;bottom: 0;left: 50%;z-index: -1;}#sk-container-id-1 div.sk-parallel-item {display: flex;flex-direction: column;z-index: 1;position: relative;background-color: white;}#sk-container-id-1 div.sk-parallel-item:first-child::after {align-self: flex-end;width: 50%;}#sk-container-id-1 div.sk-parallel-item:last-child::after {align-self: flex-start;width: 50%;}#sk-container-id-1 div.sk-parallel-item:only-child::after {width: 0;}#sk-container-id-1 div.sk-dashed-wrapped {border: 1px dashed gray;margin: 0 0.4em 0.5em 0.4em;box-sizing: border-box;padding-bottom: 0.4em;background-color: white;}#sk-container-id-1 div.sk-label label {font-family: monospace;font-weight: bold;display: inline-block;line-height: 1.2em;}#sk-container-id-1 div.sk-label-container {text-align: center;}#sk-container-id-1 div.sk-container {\/* jupyter's `normalize.less` sets `[hidden] { display: none; }` but bootstrap.min.css set `[hidden] { display: none !important; }` so we also need the `!important` here to be able to override the default hidden behavior on the sphinx rendered scikit-learn.org. See: https:\/\/github.com\/scikit-learn\/scikit-learn\/issues\/21755 *\/display: inline-block !important;position: relative;}#sk-container-id-1 div.sk-text-repr-fallback {display: none;}<\/style><div id=\"sk-container-id-1\" class=\"sk-top-container\"><div class=\"sk-text-repr-fallback\"><pre>RandomizedSearchCV(cv=3, estimator=SVC(),\n",
       "                   param_distributions={&#x27;C&#x27;: &lt;scipy.stats._distn_infrastructure.rv_continuous_frozen object at 0x7f4a25023460&gt;,\n",
       "                                        &#x27;gamma&#x27;: &lt;scipy.stats._distn_infrastructure.rv_continuous_frozen object at 0x7f4a24eca4f0&gt;},\n",
       "                   random_state=42, verbose=2)<\/pre><b>In a Jupyter environment, please rerun this cell to show the HTML representation or trust the notebook. <br \/>On GitHub, the HTML representation is unable to render, please try loading this page with nbviewer.org.<\/b><\/div><div class=\"sk-container\" hidden><div class=\"sk-item sk-dashed-wrapped\"><div class=\"sk-label-container\"><div class=\"sk-label sk-toggleable\"><input class=\"sk-toggleable__control sk-hidden--visually\" id=\"sk-estimator-id-1\" type=\"checkbox\" ><label for=\"sk-estimator-id-1\" class=\"sk-toggleable__label sk-toggleable__label-arrow\">RandomizedSearchCV<\/label><div class=\"sk-toggleable__content\"><pre>RandomizedSearchCV(cv=3, estimator=SVC(),\n",
       "                   param_distributions={&#x27;C&#x27;: &lt;scipy.stats._distn_infrastructure.rv_continuous_frozen object at 0x7f4a25023460&gt;,\n",
       "                                        &#x27;gamma&#x27;: &lt;scipy.stats._distn_infrastructure.rv_continuous_frozen object at 0x7f4a24eca4f0&gt;},\n",
       "                   random_state=42, verbose=2)<\/pre><\/div><\/div><\/div><div class=\"sk-parallel\"><div class=\"sk-parallel-item\"><div class=\"sk-item\"><div class=\"sk-label-container\"><div class=\"sk-label sk-toggleable\"><input class=\"sk-toggleable__control sk-hidden--visually\" id=\"sk-estimator-id-2\" type=\"checkbox\" ><label for=\"sk-estimator-id-2\" class=\"sk-toggleable__label sk-toggleable__label-arrow\">estimator: SVC<\/label><div class=\"sk-toggleable__content\"><pre>SVC()<\/pre><\/div><\/div><\/div><div class=\"sk-serial\"><div class=\"sk-item\"><div class=\"sk-estimator sk-toggleable\"><input class=\"sk-toggleable__control sk-hidden--visually\" id=\"sk-estimator-id-3\" type=\"checkbox\" ><label for=\"sk-estimator-id-3\" class=\"sk-toggleable__label sk-toggleable__label-arrow\">SVC<\/label><div class=\"sk-toggleable__content\"><pre>SVC()<\/pre><\/div><\/div><\/div><\/div><\/div><\/div><\/div><\/div><\/div><\/div>"
      ]
     },
     "metadata":{
      
     },
     "output_type":"display_data"
    }
   ],
   "metadata":{
    "datalore":{
     "node_id":"uiPnkO9b6oMeMW4wgreiGX",
     "type":"CODE",
     "hide_input_from_viewers":true,
     "hide_output_from_viewers":true
    }
   }
  },
  {
   "cell_type":"code",
   "source":[
    "print(f'najlepsze hiperparametry: {rnd_search_cv.best_params_}')"
   ],
   "execution_count":7,
   "outputs":[
    {
     "name":"stdout",
     "text":[
      "najlepsze hiperparametry: {'C': 84.15977339213269, 'gamma': 0.015699452033620265}\n"
     ],
     "output_type":"stream"
    }
   ],
   "metadata":{
    "datalore":{
     "node_id":"PlTqSI4DrliQc2OoZm7IAn",
     "type":"CODE",
     "hide_input_from_viewers":true,
     "hide_output_from_viewers":true
    }
   }
  },
  {
   "cell_type":"code",
   "source":[
    "final_model = rnd_search_cv.best_estimator_\n",
    "final_model.score(X_test,y_test)"
   ],
   "execution_count":8,
   "outputs":[
    {
     "data":{
      "text\/plain":[
       "1.0"
      ]
     },
     "metadata":{
      
     },
     "output_type":"display_data"
    }
   ],
   "metadata":{
    "datalore":{
     "node_id":"hf63x7owtFWv073fivm8E2",
     "type":"CODE",
     "hide_input_from_viewers":true,
     "hide_output_from_viewers":true
    }
   }
  }
 ],
 "metadata":{
  "kernelspec":{
   "display_name":"Python",
   "language":"python",
   "name":"python"
  },
  "datalore":{
   "computation_mode":"JUPYTER",
   "package_manager":"pip",
   "base_environment":"default",
   "packages":[
    
   ],
   "report_row_ids":[
    
   ],
   "version":3
  }
 },
 "nbformat":4,
 "nbformat_minor":4
}